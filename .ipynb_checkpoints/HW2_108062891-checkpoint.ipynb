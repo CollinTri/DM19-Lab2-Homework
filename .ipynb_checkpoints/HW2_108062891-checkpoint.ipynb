{
 "cells": [
  {
   "cell_type": "markdown",
   "metadata": {},
   "source": [
    "## Student Information"
   ]
  },
  {
   "cell_type": "markdown",
   "metadata": {},
   "source": [
    "#### Name: Quoc Tri Tran (Collin)"
   ]
  },
  {
   "cell_type": "markdown",
   "metadata": {},
   "source": [
    "#### Student ID: 108062891"
   ]
  },
  {
   "cell_type": "markdown",
   "metadata": {},
   "source": [
    "#### Github ID: https://github.com/CollinTri/DM19-Lab1-Homework1"
   ]
  },
  {
   "cell_type": "markdown",
   "metadata": {},
   "source": [
    "#### Kaggle name: Collin Tri"
   ]
  },
  {
   "attachments": {},
   "cell_type": "markdown",
   "metadata": {},
   "source": [
    "#### Kaggle private scoreboard snapshot: ![scoreboard](pics/scoreboard.jpg)"
   ]
  },
  {
   "cell_type": "code",
   "execution_count": 1,
   "metadata": {},
   "outputs": [],
   "source": [
    "import pandas as pd\n",
    "\n",
    "### training data\n",
    "anger_train = pd.read_csv(\"data/semeval/train/anger-ratings-0to1.train.txt\",\n",
    "                         sep=\"\\t\", header=None,names=[\"id\", \"text\", \"emotion\", \"intensity\"])\n",
    "sadness_train = pd.read_csv(\"data/semeval/train/sadness-ratings-0to1.train.txt\",\n",
    "                         sep=\"\\t\", header=None, names=[\"id\", \"text\", \"emotion\", \"intensity\"])\n",
    "fear_train = pd.read_csv(\"data/semeval/train/fear-ratings-0to1.train.txt\",\n",
    "                         sep=\"\\t\", header=None, names=[\"id\", \"text\", \"emotion\", \"intensity\"])\n",
    "joy_train = pd.read_csv(\"data/semeval/train/joy-ratings-0to1.train.txt\",\n",
    "                         sep=\"\\t\", header=None, names=[\"id\", \"text\", \"emotion\", \"intensity\"])\n",
    "\n",
    "# combine 4 sub-dataset\n",
    "train_df = pd.concat([anger_train, fear_train, joy_train, sadness_train], ignore_index=True)\n",
    "\n",
    "### testing data\n",
    "anger_test = pd.read_csv(\"data/semeval/dev/anger-ratings-0to1.dev.gold.txt\",\n",
    "                         sep=\"\\t\", header=None, names=[\"id\", \"text\", \"emotion\", \"intensity\"])\n",
    "sadness_test = pd.read_csv(\"data/semeval/dev/sadness-ratings-0to1.dev.gold.txt\",\n",
    "                         sep=\"\\t\", header=None, names=[\"id\", \"text\", \"emotion\", \"intensity\"])\n",
    "fear_test = pd.read_csv(\"data/semeval/dev/fear-ratings-0to1.dev.gold.txt\",\n",
    "                         sep=\"\\t\", header=None, names=[\"id\", \"text\", \"emotion\", \"intensity\"])\n",
    "joy_test = pd.read_csv(\"data/semeval/dev/joy-ratings-0to1.dev.gold.txt\",\n",
    "                         sep=\"\\t\", header=None, names=[\"id\", \"text\", \"emotion\", \"intensity\"])\n",
    "\n",
    "# combine 4 sub-dataset\n",
    "test_df = pd.concat([anger_test, fear_test, joy_test, sadness_test], ignore_index=True)\n",
    "train_df.head()\n",
    "\n",
    "# shuffle dataset\n",
    "train_df = train_df.sample(frac=1)\n",
    "test_df = test_df.sample(frac=1)"
   ]
  },
  {
   "cell_type": "code",
   "execution_count": 2,
   "metadata": {
    "collapsed": true
   },
   "outputs": [
    {
     "data": {
      "text/html": [
       "<div>\n",
       "<style scoped>\n",
       "    .dataframe tbody tr th:only-of-type {\n",
       "        vertical-align: middle;\n",
       "    }\n",
       "\n",
       "    .dataframe tbody tr th {\n",
       "        vertical-align: top;\n",
       "    }\n",
       "\n",
       "    .dataframe thead th {\n",
       "        text-align: right;\n",
       "    }\n",
       "</style>\n",
       "<table border=\"1\" class=\"dataframe\">\n",
       "  <thead>\n",
       "    <tr style=\"text-align: right;\">\n",
       "      <th></th>\n",
       "      <th>training_text</th>\n",
       "      <th>word_frequency</th>\n",
       "    </tr>\n",
       "  </thead>\n",
       "  <tbody>\n",
       "    <tr>\n",
       "      <td>8930</td>\n",
       "      <td>the</td>\n",
       "      <td>1736</td>\n",
       "    </tr>\n",
       "    <tr>\n",
       "      <td>9119</td>\n",
       "      <td>to</td>\n",
       "      <td>1289</td>\n",
       "    </tr>\n",
       "    <tr>\n",
       "      <td>537</td>\n",
       "      <td>and</td>\n",
       "      <td>955</td>\n",
       "    </tr>\n",
       "    <tr>\n",
       "      <td>10051</td>\n",
       "      <td>you</td>\n",
       "      <td>796</td>\n",
       "    </tr>\n",
       "    <tr>\n",
       "      <td>6371</td>\n",
       "      <td>of</td>\n",
       "      <td>793</td>\n",
       "    </tr>\n",
       "    <tr>\n",
       "      <td>4546</td>\n",
       "      <td>is</td>\n",
       "      <td>787</td>\n",
       "    </tr>\n",
       "    <tr>\n",
       "      <td>4571</td>\n",
       "      <td>it</td>\n",
       "      <td>717</td>\n",
       "    </tr>\n",
       "    <tr>\n",
       "      <td>4383</td>\n",
       "      <td>in</td>\n",
       "      <td>626</td>\n",
       "    </tr>\n",
       "    <tr>\n",
       "      <td>8924</td>\n",
       "      <td>that</td>\n",
       "      <td>537</td>\n",
       "    </tr>\n",
       "    <tr>\n",
       "      <td>5957</td>\n",
       "      <td>my</td>\n",
       "      <td>535</td>\n",
       "    </tr>\n",
       "    <tr>\n",
       "      <td>3391</td>\n",
       "      <td>for</td>\n",
       "      <td>446</td>\n",
       "    </tr>\n",
       "    <tr>\n",
       "      <td>6422</td>\n",
       "      <td>on</td>\n",
       "      <td>390</td>\n",
       "    </tr>\n",
       "    <tr>\n",
       "      <td>976</td>\n",
       "      <td>be</td>\n",
       "      <td>383</td>\n",
       "    </tr>\n",
       "    <tr>\n",
       "      <td>5577</td>\n",
       "      <td>me</td>\n",
       "      <td>380</td>\n",
       "    </tr>\n",
       "    <tr>\n",
       "      <td>9020</td>\n",
       "      <td>this</td>\n",
       "      <td>350</td>\n",
       "    </tr>\n",
       "    <tr>\n",
       "      <td>8264</td>\n",
       "      <td>so</td>\n",
       "      <td>328</td>\n",
       "    </tr>\n",
       "    <tr>\n",
       "      <td>4009</td>\n",
       "      <td>have</td>\n",
       "      <td>312</td>\n",
       "    </tr>\n",
       "    <tr>\n",
       "      <td>6235</td>\n",
       "      <td>not</td>\n",
       "      <td>303</td>\n",
       "    </tr>\n",
       "    <tr>\n",
       "      <td>4798</td>\n",
       "      <td>just</td>\n",
       "      <td>301</td>\n",
       "    </tr>\n",
       "    <tr>\n",
       "      <td>1448</td>\n",
       "      <td>but</td>\n",
       "      <td>293</td>\n",
       "    </tr>\n",
       "    <tr>\n",
       "      <td>9872</td>\n",
       "      <td>with</td>\n",
       "      <td>288</td>\n",
       "    </tr>\n",
       "    <tr>\n",
       "      <td>757</td>\n",
       "      <td>at</td>\n",
       "      <td>269</td>\n",
       "    </tr>\n",
       "    <tr>\n",
       "      <td>1504</td>\n",
       "      <td>can</td>\n",
       "      <td>257</td>\n",
       "    </tr>\n",
       "    <tr>\n",
       "      <td>464</td>\n",
       "      <td>all</td>\n",
       "      <td>243</td>\n",
       "    </tr>\n",
       "    <tr>\n",
       "      <td>5186</td>\n",
       "      <td>like</td>\n",
       "      <td>243</td>\n",
       "    </tr>\n",
       "    <tr>\n",
       "      <td>670</td>\n",
       "      <td>are</td>\n",
       "      <td>231</td>\n",
       "    </tr>\n",
       "    <tr>\n",
       "      <td>10059</td>\n",
       "      <td>your</td>\n",
       "      <td>229</td>\n",
       "    </tr>\n",
       "    <tr>\n",
       "      <td>9678</td>\n",
       "      <td>was</td>\n",
       "      <td>228</td>\n",
       "    </tr>\n",
       "    <tr>\n",
       "      <td>9782</td>\n",
       "      <td>when</td>\n",
       "      <td>226</td>\n",
       "    </tr>\n",
       "    <tr>\n",
       "      <td>4319</td>\n",
       "      <td>if</td>\n",
       "      <td>216</td>\n",
       "    </tr>\n",
       "  </tbody>\n",
       "</table>\n",
       "</div>"
      ],
      "text/plain": [
       "      training_text  word_frequency\n",
       "8930            the            1736\n",
       "9119             to            1289\n",
       "537             and             955\n",
       "10051           you             796\n",
       "6371             of             793\n",
       "4546             is             787\n",
       "4571             it             717\n",
       "4383             in             626\n",
       "8924           that             537\n",
       "5957             my             535\n",
       "3391            for             446\n",
       "6422             on             390\n",
       "976              be             383\n",
       "5577             me             380\n",
       "9020           this             350\n",
       "8264             so             328\n",
       "4009           have             312\n",
       "6235            not             303\n",
       "4798           just             301\n",
       "1448            but             293\n",
       "9872           with             288\n",
       "757              at             269\n",
       "1504            can             257\n",
       "464             all             243\n",
       "5186           like             243\n",
       "670             are             231\n",
       "10059          your             229\n",
       "9678            was             228\n",
       "9782           when             226\n",
       "4319             if             216"
      ]
     },
     "execution_count": 2,
     "metadata": {},
     "output_type": "execute_result"
    }
   ],
   "source": [
    "#### Take_Home_Exercise 01: Plot word frequency for Top 30 words in both train and test dataset. ####\n",
    "#### Training dataset only ####\n",
    "\n",
    "from sklearn.feature_extraction.text import CountVectorizer\n",
    "\n",
    "train_count_vect = CountVectorizer()\n",
    "train_counts = train_count_vect.fit_transform(train_df.text)\n",
    "\n",
    "train_terms = train_count_vect.get_feature_names()\n",
    "train_terms_sums = train_counts.sum(axis=0)\n",
    "\n",
    "train_data = []\n",
    "for col, term in enumerate(train_terms):\n",
    "    train_data.append((term, train_terms_sums[0,col]))\n",
    "\n",
    "train_ranking = pd.DataFrame(train_data, columns=['training_text','word_frequency'])\n",
    "sorted_train_terms_df = train_ranking.sort_values('word_frequency', ascending=False)\n",
    "\n",
    "sorted_train_terms_df[0:30]"
   ]
  },
  {
   "cell_type": "code",
   "execution_count": 3,
   "metadata": {
    "collapsed": true
   },
   "outputs": [
    {
     "data": {
      "text/html": [
       "<div>\n",
       "<style scoped>\n",
       "    .dataframe tbody tr th:only-of-type {\n",
       "        vertical-align: middle;\n",
       "    }\n",
       "\n",
       "    .dataframe tbody tr th {\n",
       "        vertical-align: top;\n",
       "    }\n",
       "\n",
       "    .dataframe thead th {\n",
       "        text-align: right;\n",
       "    }\n",
       "</style>\n",
       "<table border=\"1\" class=\"dataframe\">\n",
       "  <thead>\n",
       "    <tr style=\"text-align: right;\">\n",
       "      <th></th>\n",
       "      <th>test_text</th>\n",
       "      <th>word_frequency</th>\n",
       "    </tr>\n",
       "  </thead>\n",
       "  <tbody>\n",
       "    <tr>\n",
       "      <td>1687</td>\n",
       "      <td>the</td>\n",
       "      <td>153</td>\n",
       "    </tr>\n",
       "    <tr>\n",
       "      <td>1739</td>\n",
       "      <td>to</td>\n",
       "      <td>138</td>\n",
       "    </tr>\n",
       "    <tr>\n",
       "      <td>99</td>\n",
       "      <td>and</td>\n",
       "      <td>92</td>\n",
       "    </tr>\n",
       "    <tr>\n",
       "      <td>1240</td>\n",
       "      <td>of</td>\n",
       "      <td>83</td>\n",
       "    </tr>\n",
       "    <tr>\n",
       "      <td>909</td>\n",
       "      <td>it</td>\n",
       "      <td>83</td>\n",
       "    </tr>\n",
       "    <tr>\n",
       "      <td>1938</td>\n",
       "      <td>you</td>\n",
       "      <td>82</td>\n",
       "    </tr>\n",
       "    <tr>\n",
       "      <td>903</td>\n",
       "      <td>is</td>\n",
       "      <td>77</td>\n",
       "    </tr>\n",
       "    <tr>\n",
       "      <td>867</td>\n",
       "      <td>in</td>\n",
       "      <td>69</td>\n",
       "    </tr>\n",
       "    <tr>\n",
       "      <td>655</td>\n",
       "      <td>for</td>\n",
       "      <td>57</td>\n",
       "    </tr>\n",
       "    <tr>\n",
       "      <td>1686</td>\n",
       "      <td>that</td>\n",
       "      <td>55</td>\n",
       "    </tr>\n",
       "    <tr>\n",
       "      <td>1165</td>\n",
       "      <td>my</td>\n",
       "      <td>52</td>\n",
       "    </tr>\n",
       "    <tr>\n",
       "      <td>1257</td>\n",
       "      <td>on</td>\n",
       "      <td>46</td>\n",
       "    </tr>\n",
       "    <tr>\n",
       "      <td>185</td>\n",
       "      <td>be</td>\n",
       "      <td>40</td>\n",
       "    </tr>\n",
       "    <tr>\n",
       "      <td>1088</td>\n",
       "      <td>me</td>\n",
       "      <td>36</td>\n",
       "    </tr>\n",
       "    <tr>\n",
       "      <td>1567</td>\n",
       "      <td>so</td>\n",
       "      <td>34</td>\n",
       "    </tr>\n",
       "    <tr>\n",
       "      <td>1843</td>\n",
       "      <td>was</td>\n",
       "      <td>34</td>\n",
       "    </tr>\n",
       "    <tr>\n",
       "      <td>290</td>\n",
       "      <td>can</td>\n",
       "      <td>32</td>\n",
       "    </tr>\n",
       "    <tr>\n",
       "      <td>785</td>\n",
       "      <td>have</td>\n",
       "      <td>30</td>\n",
       "    </tr>\n",
       "    <tr>\n",
       "      <td>82</td>\n",
       "      <td>all</td>\n",
       "      <td>30</td>\n",
       "    </tr>\n",
       "    <tr>\n",
       "      <td>150</td>\n",
       "      <td>at</td>\n",
       "      <td>30</td>\n",
       "    </tr>\n",
       "    <tr>\n",
       "      <td>934</td>\n",
       "      <td>just</td>\n",
       "      <td>29</td>\n",
       "    </tr>\n",
       "    <tr>\n",
       "      <td>1893</td>\n",
       "      <td>with</td>\n",
       "      <td>29</td>\n",
       "    </tr>\n",
       "    <tr>\n",
       "      <td>133</td>\n",
       "      <td>are</td>\n",
       "      <td>29</td>\n",
       "    </tr>\n",
       "    <tr>\n",
       "      <td>705</td>\n",
       "      <td>get</td>\n",
       "      <td>26</td>\n",
       "    </tr>\n",
       "    <tr>\n",
       "      <td>277</td>\n",
       "      <td>but</td>\n",
       "      <td>26</td>\n",
       "    </tr>\n",
       "    <tr>\n",
       "      <td>1212</td>\n",
       "      <td>not</td>\n",
       "      <td>24</td>\n",
       "    </tr>\n",
       "    <tr>\n",
       "      <td>1804</td>\n",
       "      <td>up</td>\n",
       "      <td>24</td>\n",
       "    </tr>\n",
       "    <tr>\n",
       "      <td>1009</td>\n",
       "      <td>like</td>\n",
       "      <td>24</td>\n",
       "    </tr>\n",
       "    <tr>\n",
       "      <td>1940</td>\n",
       "      <td>your</td>\n",
       "      <td>24</td>\n",
       "    </tr>\n",
       "    <tr>\n",
       "      <td>1712</td>\n",
       "      <td>this</td>\n",
       "      <td>24</td>\n",
       "    </tr>\n",
       "  </tbody>\n",
       "</table>\n",
       "</div>"
      ],
      "text/plain": [
       "     test_text  word_frequency\n",
       "1687       the             153\n",
       "1739        to             138\n",
       "99         and              92\n",
       "1240        of              83\n",
       "909         it              83\n",
       "1938       you              82\n",
       "903         is              77\n",
       "867         in              69\n",
       "655        for              57\n",
       "1686      that              55\n",
       "1165        my              52\n",
       "1257        on              46\n",
       "185         be              40\n",
       "1088        me              36\n",
       "1567        so              34\n",
       "1843       was              34\n",
       "290        can              32\n",
       "785       have              30\n",
       "82         all              30\n",
       "150         at              30\n",
       "934       just              29\n",
       "1893      with              29\n",
       "133        are              29\n",
       "705        get              26\n",
       "277        but              26\n",
       "1212       not              24\n",
       "1804        up              24\n",
       "1009      like              24\n",
       "1940      your              24\n",
       "1712      this              24"
      ]
     },
     "execution_count": 3,
     "metadata": {},
     "output_type": "execute_result"
    }
   ],
   "source": [
    "#### Take_Home_Exercise 01: Plot word frequency for Top 30 words in both train and test dataset. ####\n",
    "#### Testing dataset only ####\n",
    "\n",
    "test_count_vect = CountVectorizer()\n",
    "test_counts = test_count_vect.fit_transform(test_df.text)\n",
    "test_terms = test_count_vect.get_feature_names()\n",
    "test_terms_sums = test_counts.sum(axis=0)\n",
    "\n",
    "test_data = []\n",
    "for col, term in enumerate(test_terms):\n",
    "    test_data.append((term, test_terms_sums[0,col]))\n",
    "\n",
    "test_ranking = pd.DataFrame(test_data, columns=['test_text','word_frequency'])\n",
    "sorted_test_terms_df = test_ranking.sort_values('word_frequency', ascending=False)\n",
    "\n",
    "sorted_test_terms_df[0:30]"
   ]
  },
  {
   "cell_type": "code",
   "execution_count": 4,
   "metadata": {
    "collapsed": true
   },
   "outputs": [
    {
     "data": {
      "text/html": [
       "<div>\n",
       "<style scoped>\n",
       "    .dataframe tbody tr th:only-of-type {\n",
       "        vertical-align: middle;\n",
       "    }\n",
       "\n",
       "    .dataframe tbody tr th {\n",
       "        vertical-align: top;\n",
       "    }\n",
       "\n",
       "    .dataframe thead th {\n",
       "        text-align: right;\n",
       "    }\n",
       "</style>\n",
       "<table border=\"1\" class=\"dataframe\">\n",
       "  <thead>\n",
       "    <tr style=\"text-align: right;\">\n",
       "      <th></th>\n",
       "      <th>whole_text</th>\n",
       "      <th>word_frequency</th>\n",
       "    </tr>\n",
       "  </thead>\n",
       "  <tbody>\n",
       "    <tr>\n",
       "      <td>9525</td>\n",
       "      <td>the</td>\n",
       "      <td>1889</td>\n",
       "    </tr>\n",
       "    <tr>\n",
       "      <td>9733</td>\n",
       "      <td>to</td>\n",
       "      <td>1427</td>\n",
       "    </tr>\n",
       "    <tr>\n",
       "      <td>576</td>\n",
       "      <td>and</td>\n",
       "      <td>1047</td>\n",
       "    </tr>\n",
       "    <tr>\n",
       "      <td>10725</td>\n",
       "      <td>you</td>\n",
       "      <td>878</td>\n",
       "    </tr>\n",
       "    <tr>\n",
       "      <td>6814</td>\n",
       "      <td>of</td>\n",
       "      <td>876</td>\n",
       "    </tr>\n",
       "    <tr>\n",
       "      <td>4853</td>\n",
       "      <td>is</td>\n",
       "      <td>864</td>\n",
       "    </tr>\n",
       "    <tr>\n",
       "      <td>4879</td>\n",
       "      <td>it</td>\n",
       "      <td>800</td>\n",
       "    </tr>\n",
       "    <tr>\n",
       "      <td>4681</td>\n",
       "      <td>in</td>\n",
       "      <td>695</td>\n",
       "    </tr>\n",
       "    <tr>\n",
       "      <td>9519</td>\n",
       "      <td>that</td>\n",
       "      <td>592</td>\n",
       "    </tr>\n",
       "    <tr>\n",
       "      <td>6363</td>\n",
       "      <td>my</td>\n",
       "      <td>587</td>\n",
       "    </tr>\n",
       "    <tr>\n",
       "      <td>3625</td>\n",
       "      <td>for</td>\n",
       "      <td>503</td>\n",
       "    </tr>\n",
       "    <tr>\n",
       "      <td>6868</td>\n",
       "      <td>on</td>\n",
       "      <td>436</td>\n",
       "    </tr>\n",
       "    <tr>\n",
       "      <td>1041</td>\n",
       "      <td>be</td>\n",
       "      <td>423</td>\n",
       "    </tr>\n",
       "    <tr>\n",
       "      <td>5955</td>\n",
       "      <td>me</td>\n",
       "      <td>416</td>\n",
       "    </tr>\n",
       "    <tr>\n",
       "      <td>9625</td>\n",
       "      <td>this</td>\n",
       "      <td>374</td>\n",
       "    </tr>\n",
       "    <tr>\n",
       "      <td>8822</td>\n",
       "      <td>so</td>\n",
       "      <td>362</td>\n",
       "    </tr>\n",
       "    <tr>\n",
       "      <td>4282</td>\n",
       "      <td>have</td>\n",
       "      <td>342</td>\n",
       "    </tr>\n",
       "    <tr>\n",
       "      <td>5117</td>\n",
       "      <td>just</td>\n",
       "      <td>330</td>\n",
       "    </tr>\n",
       "    <tr>\n",
       "      <td>6662</td>\n",
       "      <td>not</td>\n",
       "      <td>327</td>\n",
       "    </tr>\n",
       "    <tr>\n",
       "      <td>1544</td>\n",
       "      <td>but</td>\n",
       "      <td>319</td>\n",
       "    </tr>\n",
       "    <tr>\n",
       "      <td>10537</td>\n",
       "      <td>with</td>\n",
       "      <td>317</td>\n",
       "    </tr>\n",
       "    <tr>\n",
       "      <td>810</td>\n",
       "      <td>at</td>\n",
       "      <td>299</td>\n",
       "    </tr>\n",
       "    <tr>\n",
       "      <td>1604</td>\n",
       "      <td>can</td>\n",
       "      <td>289</td>\n",
       "    </tr>\n",
       "    <tr>\n",
       "      <td>499</td>\n",
       "      <td>all</td>\n",
       "      <td>273</td>\n",
       "    </tr>\n",
       "    <tr>\n",
       "      <td>5536</td>\n",
       "      <td>like</td>\n",
       "      <td>267</td>\n",
       "    </tr>\n",
       "    <tr>\n",
       "      <td>10331</td>\n",
       "      <td>was</td>\n",
       "      <td>262</td>\n",
       "    </tr>\n",
       "    <tr>\n",
       "      <td>720</td>\n",
       "      <td>are</td>\n",
       "      <td>260</td>\n",
       "    </tr>\n",
       "    <tr>\n",
       "      <td>10733</td>\n",
       "      <td>your</td>\n",
       "      <td>253</td>\n",
       "    </tr>\n",
       "    <tr>\n",
       "      <td>10442</td>\n",
       "      <td>when</td>\n",
       "      <td>243</td>\n",
       "    </tr>\n",
       "    <tr>\n",
       "      <td>4615</td>\n",
       "      <td>if</td>\n",
       "      <td>237</td>\n",
       "    </tr>\n",
       "  </tbody>\n",
       "</table>\n",
       "</div>"
      ],
      "text/plain": [
       "      whole_text  word_frequency\n",
       "9525         the            1889\n",
       "9733          to            1427\n",
       "576          and            1047\n",
       "10725        you             878\n",
       "6814          of             876\n",
       "4853          is             864\n",
       "4879          it             800\n",
       "4681          in             695\n",
       "9519        that             592\n",
       "6363          my             587\n",
       "3625         for             503\n",
       "6868          on             436\n",
       "1041          be             423\n",
       "5955          me             416\n",
       "9625        this             374\n",
       "8822          so             362\n",
       "4282        have             342\n",
       "5117        just             330\n",
       "6662         not             327\n",
       "1544         but             319\n",
       "10537       with             317\n",
       "810           at             299\n",
       "1604         can             289\n",
       "499          all             273\n",
       "5536        like             267\n",
       "10331        was             262\n",
       "720          are             260\n",
       "10733       your             253\n",
       "10442       when             243\n",
       "4615          if             237"
      ]
     },
     "execution_count": 4,
     "metadata": {},
     "output_type": "execute_result"
    }
   ],
   "source": [
    "#### Take_Home_Exercise 01: Plot word frequency for Top 30 words in both train and test dataset. ####\n",
    "#### Training dataset and Testing dataset concatenate together ####\n",
    "\n",
    "whole_df = pd.concat([train_df, test_df], ignore_index=True)\n",
    "whole_count_vect = CountVectorizer()\n",
    "whole_counts = whole_count_vect.fit_transform(whole_df.text)\n",
    "whole_terms = whole_count_vect.get_feature_names()\n",
    "whole_terms_sums = whole_counts.sum(axis=0)\n",
    "\n",
    "whole_data = []\n",
    "for col, term in enumerate(whole_terms):\n",
    "    whole_data.append((term, whole_terms_sums[0,col]))\n",
    "\n",
    "whole_ranking = pd.DataFrame(whole_data, columns=['whole_text','word_frequency'])\n",
    "sorted_whole_terms_df = whole_ranking.sort_values('word_frequency', ascending=False)\n",
    "\n",
    "sorted_whole_terms_df[0:30]"
   ]
  },
  {
   "cell_type": "code",
   "execution_count": 5,
   "metadata": {
    "collapsed": true
   },
   "outputs": [
    {
     "data": {
      "text/plain": [
       "['awful', 'b', 'baby', 'back', 'bad', 'ball', 'balls', 'bb18', 'bc', 'bday']"
      ]
     },
     "execution_count": 5,
     "metadata": {},
     "output_type": "execute_result"
    }
   ],
   "source": [
    "#### Take_Home_Exercise 02: Generate an embedding using the TF-IDF vectorizer instead of the BOW one with 1000 features and show the feature names for features [100:110] ####\n",
    "#### observe some feature names of training dataset ####\n",
    "from sklearn.feature_extraction.text import TfidfVectorizer\n",
    "import nltk\n",
    "\n",
    "train_vect = TfidfVectorizer(max_features=1000, tokenizer=nltk.word_tokenize)\n",
    "train_vect.fit(train_df['text'])\n",
    "train_data_BOW_features = train_vect.transform(train_df['text'])\n",
    "\n",
    "train_feature_names = train_vect.get_feature_names()\n",
    "train_feature_names[100:110]"
   ]
  },
  {
   "cell_type": "code",
   "execution_count": 6,
   "metadata": {
    "collapsed": true
   },
   "outputs": [
    {
     "data": {
      "text/plain": [
       "['angry',\n",
       " 'angryman',\n",
       " 'animated',\n",
       " 'another',\n",
       " 'answers',\n",
       " 'anushkasharma',\n",
       " 'anxiety',\n",
       " 'anxietyproblems',\n",
       " 'any',\n",
       " 'apocalypse']"
      ]
     },
     "execution_count": 6,
     "metadata": {},
     "output_type": "execute_result"
    }
   ],
   "source": [
    "#### Take_Home_Exercise 02: Generate an embedding using the TF-IDF vectorizer instead of th BOW one with 1000 features and show the feature names for features [100:110] ####\n",
    "#### observe some feature names of testing dataset ####\n",
    "test_vect = TfidfVectorizer(max_features=1000, tokenizer=nltk.word_tokenize)\n",
    "test_vect.fit(test_df['text'])\n",
    "test_data_BOW_features = test_vect.transform(test_df['text'])\n",
    "\n",
    "test_feature_names = test_vect.get_feature_names()\n",
    "test_feature_names[100:110]"
   ]
  },
  {
   "cell_type": "code",
   "execution_count": 7,
   "metadata": {
    "collapsed": true
   },
   "outputs": [
    {
     "data": {
      "text/plain": [
       "\"\\nFrom the Classification precision: this method has best performance in classifying 'joy' emotion.\\nFrom the f1-score: performance of this model is just average in classifying all emotion classes.\\nFrom macro_avg and weighted_avg: 'label_imbalance' does not affect the precision and recall averages of this model, \\n    i.e. there is no situation of 'label_imbalance'.\\nFrom confusion matrix: highest TP value comes to classifying 'fear'but due to larger value of support compare to other \\n    emotions, precision value is reduced.\\n\""
      ]
     },
     "execution_count": 7,
     "metadata": {},
     "output_type": "execute_result"
    }
   ],
   "source": [
    "#### Take_Home_Exercise 03: Inteprete the result ####\n",
    "\n",
    "\"\"\"\n",
    "From the Classification precision: this method has best performance in classifying 'joy' emotion.\n",
    "From the f1-score: performance of this model is just average in classifying all emotion classes.\n",
    "From macro_avg and weighted_avg: 'label_imbalance' does not affect the precision and recall averages of this model, \n",
    "    i.e. there is no situation of 'label_imbalance'.\n",
    "From confusion matrix: highest TP value comes to classifying 'fear'but due to larger value of support compare to other \n",
    "    emotions, precision value is reduced.\n",
    "\"\"\""
   ]
  },
  {
   "cell_type": "code",
   "execution_count": 8,
   "metadata": {
    "collapsed": true
   },
   "outputs": [
    {
     "name": "stdout",
     "output_type": "stream",
     "text": [
      "training accuracy: 0.79\n",
      "testing accuracy: 0.72\n"
     ]
    },
    {
     "data": {
      "text/plain": [
       "'comparing to DecisionTree model, although NB model has lower training accuracy but it improves testing accuracy, which is\\nactual useful metric we aimed at when dealing with unseen new dataset.'"
      ]
     },
     "execution_count": 8,
     "metadata": {},
     "output_type": "execute_result"
    }
   ],
   "source": [
    "#### Take_Home_Exercise 04: Naive Bayes model training and predicting ####\n",
    "#### using Lab version's setting to compare: BOW CountVectorizer with 500 features ####\n",
    "\n",
    "from sklearn.naive_bayes import MultinomialNB\n",
    "from sklearn.metrics import accuracy_score\n",
    "\n",
    "# build analyzers (bag-of-words)\n",
    "BOW_500 = CountVectorizer(max_features=500, tokenizer=nltk.word_tokenize) \n",
    "# apply analyzer to training data\n",
    "BOW_500.fit(train_df['text'])\n",
    "\n",
    "## Preparing training and testing data\n",
    "X_NB_train = BOW_500.transform(train_df['text'])\n",
    "y_NB_train = train_df['emotion']\n",
    "\n",
    "X_NB_test = BOW_500.transform(test_df['text'])\n",
    "y_NB_test = test_df['emotion']\n",
    "\n",
    "## build Naive Bayes model\n",
    "NB_model = MultinomialNB()\n",
    "\n",
    "## performing training process\n",
    "NB_model.fit(X_NB_train, y_NB_train)\n",
    "\n",
    "## performing predicting process\n",
    "y_NB_train_pred = NB_model.predict(X_NB_train)\n",
    "y_NB_test_pred = NB_model.predict(X_NB_test)\n",
    "\n",
    "## computing accuracy score\n",
    "acc_NB_train = accuracy_score(y_true=y_NB_train, y_pred=y_NB_train_pred)\n",
    "acc_NB_test = accuracy_score(y_true=y_NB_test, y_pred=y_NB_test_pred)\n",
    "\n",
    "print('training accuracy: {}'.format(round(acc_NB_train, 2)))\n",
    "print('testing accuracy: {}'.format(round(acc_NB_test, 2)))\n",
    "\n",
    "\"\"\"comparing to DecisionTree model, although NB model has lower training accuracy but it improves testing accuracy, which is\n",
    "actual useful metric we aimed at when dealing with unseen new dataset.\"\"\""
   ]
  },
  {
   "cell_type": "code",
   "execution_count": 9,
   "metadata": {
    "collapsed": true
   },
   "outputs": [
    {
     "name": "stdout",
     "output_type": "stream",
     "text": [
      "              precision    recall  f1-score   support\n",
      "\n",
      "       anger       0.71      0.65      0.68        84\n",
      "        fear       0.74      0.83      0.78       110\n",
      "         joy       0.76      0.71      0.73        79\n",
      "     sadness       0.65      0.64      0.64        74\n",
      "\n",
      "    accuracy                           0.72       347\n",
      "   macro avg       0.71      0.71      0.71       347\n",
      "weighted avg       0.72      0.72      0.72       347\n",
      "\n"
     ]
    },
    {
     "data": {
      "text/plain": [
       "\" Compare to Decision Tree model: there are slightly improvements of precision score in classifying all emotion classes.\\nAlso, by considering f1-score, all values indicates that Naive Bayes raise more superior performance than Decision Tree model.\\nA minor withdraw is that Naive Bayes model show some reflection in 'label_imbalance' \""
      ]
     },
     "execution_count": 9,
     "metadata": {},
     "output_type": "execute_result"
    }
   ],
   "source": [
    "#### Take_Home_Exercise 05: Naive Bayes model compare to Decision Tree model (precision, recall, f1-score) ####\n",
    "#### Using the Lab version's setting: BOW CountVectorizer with 500 features ####\n",
    "from sklearn.metrics import classification_report\n",
    "\n",
    "print(classification_report(y_true=y_NB_test, y_pred=y_NB_test_pred))\n",
    "\n",
    "\"\"\" Compare to Decision Tree model: there are slightly improvements of precision score in classifying all emotion classes.\n",
    "Also, by considering f1-score, all values indicates that Naive Bayes raise more superior performance than Decision Tree model.\n",
    "A minor withdraw is that Naive Bayes model show some reflection in 'label_imbalance' \"\"\""
   ]
  },
  {
   "cell_type": "code",
   "execution_count": 10,
   "metadata": {
    "collapsed": true
   },
   "outputs": [
    {
     "name": "stderr",
     "output_type": "stream",
     "text": [
      "Using TensorFlow backend.\n"
     ]
    },
    {
     "name": "stdout",
     "output_type": "stream",
     "text": [
      "check label:  ['anger' 'fear' 'joy' 'sadness']\n",
      "\n",
      "## Before convert\n",
      "y_train[0:4]:\n",
      " 1858       fear\n",
      "2181        joy\n",
      "1705       fear\n",
      "3225    sadness\n",
      "Name: emotion, dtype: object\n",
      "\n",
      "y_train.shape:  (3613,)\n",
      "y_test.shape:  (347,)\n",
      "WARNING:tensorflow:From c:\\users\\solo_\\appdata\\local\\programs\\python\\python36\\lib\\site-packages\\tensorflow_core\\python\\ops\\resource_variable_ops.py:1630: calling BaseResourceVariable.__init__ (from tensorflow.python.ops.resource_variable_ops) with constraint is deprecated and will be removed in a future version.\n",
      "Instructions for updating:\n",
      "If using Keras pass *_constraint arguments to layers.\n",
      "Model: \"model_1\"\n",
      "_________________________________________________________________\n",
      "Layer (type)                 Output Shape              Param #   \n",
      "=================================================================\n",
      "input_1 (InputLayer)         (None, 500)               0         \n",
      "_________________________________________________________________\n",
      "dense_1 (Dense)              (None, 64)                32064     \n",
      "_________________________________________________________________\n",
      "re_lu_1 (ReLU)               (None, 64)                0         \n",
      "_________________________________________________________________\n",
      "dense_2 (Dense)              (None, 64)                4160      \n",
      "_________________________________________________________________\n",
      "re_lu_2 (ReLU)               (None, 64)                0         \n",
      "_________________________________________________________________\n",
      "dense_3 (Dense)              (None, 4)                 260       \n",
      "_________________________________________________________________\n",
      "softmax_1 (Softmax)          (None, 4)                 0         \n",
      "=================================================================\n",
      "Total params: 36,484\n",
      "Trainable params: 36,484\n",
      "Non-trainable params: 0\n",
      "_________________________________________________________________\n",
      "WARNING:tensorflow:From c:\\users\\solo_\\appdata\\local\\programs\\python\\python36\\lib\\site-packages\\keras\\backend\\tensorflow_backend.py:422: The name tf.global_variables is deprecated. Please use tf.compat.v1.global_variables instead.\n",
      "\n",
      "Train on 3613 samples, validate on 347 samples\n",
      "Epoch 1/25\n",
      "3613/3613 [==============================] - 0s 101us/step - loss: 1.3245 - accuracy: 0.3681 - val_loss: 1.2717 - val_accuracy: 0.4553\n",
      "Epoch 2/25\n",
      "3613/3613 [==============================] - 0s 60us/step - loss: 0.9733 - accuracy: 0.6502 - val_loss: 0.9045 - val_accuracy: 0.6801\n",
      "Epoch 3/25\n",
      "3613/3613 [==============================] - 0s 57us/step - loss: 0.5576 - accuracy: 0.8021 - val_loss: 0.7672 - val_accuracy: 0.6888\n",
      "Epoch 4/25\n",
      "3613/3613 [==============================] - 0s 57us/step - loss: 0.3981 - accuracy: 0.8500 - val_loss: 0.7885 - val_accuracy: 0.7089\n",
      "Epoch 5/25\n",
      "3613/3613 [==============================] - 0s 55us/step - loss: 0.3137 - accuracy: 0.8876 - val_loss: 0.8150 - val_accuracy: 0.7147\n",
      "Epoch 6/25\n",
      "3613/3613 [==============================] - 0s 58us/step - loss: 0.2529 - accuracy: 0.9136 - val_loss: 0.8979 - val_accuracy: 0.7032\n",
      "Epoch 7/25\n",
      "3613/3613 [==============================] - 0s 56us/step - loss: 0.2139 - accuracy: 0.9294 - val_loss: 0.9251 - val_accuracy: 0.6859\n",
      "Epoch 8/25\n",
      "3613/3613 [==============================] - 0s 53us/step - loss: 0.1768 - accuracy: 0.9444 - val_loss: 0.9880 - val_accuracy: 0.6945\n",
      "Epoch 9/25\n",
      "3613/3613 [==============================] - 0s 48us/step - loss: 0.1492 - accuracy: 0.9541 - val_loss: 1.0506 - val_accuracy: 0.6888\n",
      "Epoch 10/25\n",
      "3613/3613 [==============================] - 0s 58us/step - loss: 0.1313 - accuracy: 0.9613 - val_loss: 1.1442 - val_accuracy: 0.6888\n",
      "Epoch 11/25\n",
      "3613/3613 [==============================] - 0s 55us/step - loss: 0.1213 - accuracy: 0.9662 - val_loss: 1.1706 - val_accuracy: 0.6772\n",
      "Epoch 12/25\n",
      "3613/3613 [==============================] - 0s 50us/step - loss: 0.1125 - accuracy: 0.9662 - val_loss: 1.2179 - val_accuracy: 0.6859\n",
      "Epoch 13/25\n",
      "3613/3613 [==============================] - 0s 51us/step - loss: 0.1023 - accuracy: 0.9684 - val_loss: 1.2847 - val_accuracy: 0.6744\n",
      "Epoch 14/25\n",
      "3613/3613 [==============================] - 0s 55us/step - loss: 0.0879 - accuracy: 0.9734 - val_loss: 1.3506 - val_accuracy: 0.6830\n",
      "Epoch 15/25\n",
      "3613/3613 [==============================] - 0s 56us/step - loss: 0.0901 - accuracy: 0.9732 - val_loss: 1.3254 - val_accuracy: 0.6859\n",
      "Epoch 16/25\n",
      "3613/3613 [==============================] - 0s 55us/step - loss: 0.0835 - accuracy: 0.9734 - val_loss: 1.3951 - val_accuracy: 0.6801\n",
      "Epoch 17/25\n",
      "3613/3613 [==============================] - 0s 56us/step - loss: 0.0802 - accuracy: 0.9754 - val_loss: 1.4156 - val_accuracy: 0.6859\n",
      "Epoch 18/25\n",
      "3613/3613 [==============================] - 0s 57us/step - loss: 0.0746 - accuracy: 0.9765 - val_loss: 1.4181 - val_accuracy: 0.6772\n",
      "Epoch 19/25\n",
      "3613/3613 [==============================] - 0s 53us/step - loss: 0.0741 - accuracy: 0.9756 - val_loss: 1.5067 - val_accuracy: 0.6859\n",
      "Epoch 20/25\n",
      "3613/3613 [==============================] - 0s 50us/step - loss: 0.0765 - accuracy: 0.9748 - val_loss: 1.4591 - val_accuracy: 0.6744\n",
      "Epoch 21/25\n",
      "3613/3613 [==============================] - 0s 54us/step - loss: 0.0664 - accuracy: 0.9779 - val_loss: 1.4915 - val_accuracy: 0.6859\n",
      "Epoch 22/25\n",
      "3613/3613 [==============================] - 0s 48us/step - loss: 0.0724 - accuracy: 0.9770 - val_loss: 1.5279 - val_accuracy: 0.6715\n",
      "Epoch 23/25\n",
      "3613/3613 [==============================] - 0s 54us/step - loss: 0.0661 - accuracy: 0.9792 - val_loss: 1.5264 - val_accuracy: 0.6772\n",
      "Epoch 24/25\n",
      "3613/3613 [==============================] - 0s 52us/step - loss: 0.0633 - accuracy: 0.9784 - val_loss: 1.5556 - val_accuracy: 0.6801\n",
      "Epoch 25/25\n",
      "3613/3613 [==============================] - 0s 58us/step - loss: 0.0641 - accuracy: 0.9790 - val_loss: 1.5889 - val_accuracy: 0.6772\n"
     ]
    },
    {
     "data": {
      "text/plain": [
       "0     0.368115\n",
       "1     0.650152\n",
       "2     0.802103\n",
       "3     0.849986\n",
       "4     0.887628\n",
       "5     0.913645\n",
       "6     0.929422\n",
       "7     0.944368\n",
       "8     0.954055\n",
       "9     0.961251\n",
       "10    0.966233\n",
       "11    0.966233\n",
       "12    0.968447\n",
       "13    0.973429\n",
       "14    0.973152\n",
       "15    0.973429\n",
       "16    0.975367\n",
       "17    0.976474\n",
       "18    0.975643\n",
       "19    0.974813\n",
       "20    0.977858\n",
       "21    0.977027\n",
       "22    0.979242\n",
       "23    0.978411\n",
       "24    0.978965\n",
       "Name: accuracy, dtype: float64"
      ]
     },
     "execution_count": 10,
     "metadata": {},
     "output_type": "execute_result"
    }
   ],
   "source": [
    "import keras\n",
    "from sklearn.preprocessing import LabelEncoder\n",
    "from keras.models import Model\n",
    "from keras.layers import Input, Dense\n",
    "from keras.layers import ReLU, Softmax\n",
    "from keras.callbacks import CSVLogger\n",
    "from sklearn.metrics import accuracy_score\n",
    "import numpy as np\n",
    "\n",
    "# standardize name (X, y) \n",
    "X_train = BOW_500.transform(train_df['text'])\n",
    "y_train = train_df['emotion']\n",
    "\n",
    "X_test = BOW_500.transform(test_df['text'])\n",
    "y_test = test_df['emotion']\n",
    "\n",
    "## deal with label (string -> one-hot)\n",
    "label_encoder = LabelEncoder()\n",
    "label_encoder.fit(y_train)\n",
    "print('check label: ', label_encoder.classes_)\n",
    "print('\\n## Before convert')\n",
    "print('y_train[0:4]:\\n', y_train[0:4])\n",
    "print('\\ny_train.shape: ', y_train.shape)\n",
    "print('y_test.shape: ', y_test.shape)\n",
    "\n",
    "def label_encode(le, labels):\n",
    "    enc = le.transform(labels)\n",
    "    return keras.utils.to_categorical(enc)\n",
    "\n",
    "def label_decode(le, one_hot_label):\n",
    "    dec = np.argmax(one_hot_label, axis=1)\n",
    "    return le.inverse_transform(dec)\n",
    "\n",
    "y_train = label_encode(label_encoder, y_train)\n",
    "y_test = label_encode(label_encoder, y_test)\n",
    "\n",
    "# I/O setting\n",
    "input_shape = X_train.shape[1]\n",
    "output_shape = len(label_encoder.classes_)\n",
    "\n",
    "# input layer\n",
    "model_input = Input(shape=(input_shape, ))  # 500\n",
    "X = model_input\n",
    "\n",
    "# 1st hidden layer\n",
    "X_W1 = Dense(units=64)(X)  # 64\n",
    "H1 = ReLU()(X_W1)\n",
    "\n",
    "# 2nd hidden layer\n",
    "H1_W2 = Dense(units=64)(H1)  # 64\n",
    "H2 = ReLU()(H1_W2)\n",
    "\n",
    "# output layer\n",
    "H2_W3 = Dense(units=output_shape)(H2)  # 4\n",
    "H3 = Softmax()(H2_W3)\n",
    "\n",
    "model_output = H3\n",
    "\n",
    "# create model\n",
    "model = Model(inputs=[model_input], outputs=[model_output])\n",
    "\n",
    "# loss function & optimizer\n",
    "model.compile(optimizer='adam', loss='categorical_crossentropy', metrics=['accuracy'])\n",
    "\n",
    "# show model construction\n",
    "model.summary()\n",
    "\n",
    "#### Training the Deep Learning NN ####\n",
    "\n",
    "csv_logger = CSVLogger('logs/training_log.csv')\n",
    "\n",
    "# training setting\n",
    "epochs = 25\n",
    "batch_size = 32\n",
    "\n",
    "# training!\n",
    "history = model.fit(X_train, y_train, epochs=epochs, batch_size=batch_size, callbacks=[csv_logger], validation_data = (X_test, y_test))\n",
    "\n",
    "#### Predict on testing dataset ####\n",
    "\n",
    "pred_result = model.predict(X_test, batch_size=128)\n",
    "pred_result = label_decode(label_encoder, pred_result)\n",
    "\n",
    "# training log (Accuracy and Loss)\n",
    "training_log = pd.DataFrame()\n",
    "training_log = pd.read_csv(\"logs/training_log.csv\")\n",
    "training_log.accuracy"
   ]
  },
  {
   "cell_type": "code",
   "execution_count": 11,
   "metadata": {
    "collapsed": true
   },
   "outputs": [
    {
     "data": {
      "text/plain": [
       "<Figure size 1200x400 with 2 Axes>"
      ]
     },
     "metadata": {},
     "output_type": "display_data"
    },
    {
     "data": {
      "text/plain": [
       "' Both Training Accuracy and Validation Accuracy come to stable states by the 5 epoch. Training Accuracy stays way higher\\nthan Validation Accuracy. In combining of Accuracy and Loss, Overfitting starts at about the 4th epoch where validation Loss\\nstarted to increase dramatically '"
      ]
     },
     "execution_count": 11,
     "metadata": {},
     "output_type": "execute_result"
    }
   ],
   "source": [
    "#### Take_Home_Exercise 06: Naive Bayes model compare to Decision Tree model (precision, recall, f1-score) ####\n",
    "\n",
    "import matplotlib.pyplot as plt\n",
    "import numpy as np\n",
    "\n",
    "x1 = training_log.epoch\n",
    "y1 = training_log.accuracy\n",
    "\n",
    "x2 = training_log.epoch\n",
    "y2 = training_log.val_accuracy\n",
    "\n",
    "x3 = training_log.epoch\n",
    "y3 = training_log.loss\n",
    "\n",
    "x4 = training_log.epoch\n",
    "y4 = training_log.val_loss\n",
    "\n",
    "fig, (ax1, ax2) = plt.subplots(1, 2,figsize=(12,4))\n",
    "\n",
    "ax1.title.set_text('Training Accuracy per epoch')\n",
    "ax1.set(xlabel='epoch')\n",
    "ax1.set(ylabel='Accuracy')\n",
    "l1 = ax1.plot(x1,y1, color='r', label='Train Accuracy')\n",
    "l2 = ax1.plot(x2,y2, color='b', label='Val Accuracy')\n",
    "ax1.legend(loc=\"upper right\")\n",
    "\n",
    "ax2.title.set_text('Training Loss per epoch')\n",
    "ax2.set(xlabel='epoch')\n",
    "ax2.set(ylabel='Loss')\n",
    "l3 = ax2.plot(x3,y3, color='g', label='Train Loss')\n",
    "l4 = ax2.plot(x4,y4, color='purple', label='Val Loss')\n",
    "ax2.legend(loc=\"upper right\")\n",
    "\n",
    "plt.subplots_adjust(top=1, bottom=0.08, left=0.1, right=0.95, hspace=0.1, wspace=0.5)\n",
    "plt.show()\n",
    "\n",
    "\"\"\" Both Training Accuracy and Validation Accuracy come to stable states by the 5 epoch. Training Accuracy stays way higher\n",
    "than Validation Accuracy. In combining of Accuracy and Loss, Overfitting starts at about the 4th epoch where validation Loss\n",
    "started to increase dramatically \"\"\""
   ]
  },
  {
   "cell_type": "code",
   "execution_count": 12,
   "metadata": {
    "collapsed": true
   },
   "outputs": [
    {
     "name": "stderr",
     "output_type": "stream",
     "text": [
      "c:\\users\\solo_\\appdata\\local\\programs\\python\\python36\\lib\\site-packages\\gensim\\models\\doc2vec.py:574: UserWarning: The parameter `size` is deprecated, will be removed in 4.0.0, use `vector_size` instead.\n",
      "  warnings.warn(\"The parameter `size` is deprecated, will be removed in 4.0.0, use `vector_size` instead.\")\n"
     ]
    },
    {
     "name": "stdout",
     "output_type": "stream",
     "text": [
      "iteration 0\n"
     ]
    },
    {
     "name": "stderr",
     "output_type": "stream",
     "text": [
      "c:\\users\\solo_\\appdata\\local\\programs\\python\\python36\\lib\\site-packages\\ipykernel_launcher.py:24: DeprecationWarning: Call to deprecated `iter` (Attribute will be removed in 4.0.0, use self.epochs instead).\n"
     ]
    },
    {
     "name": "stdout",
     "output_type": "stream",
     "text": [
      "iteration 1\n",
      "iteration 2\n",
      "iteration 3\n",
      "iteration 4\n",
      "iteration 5\n",
      "iteration 6\n",
      "iteration 7\n",
      "iteration 8\n",
      "iteration 9\n",
      "iteration 10\n",
      "iteration 11\n",
      "iteration 12\n",
      "iteration 13\n",
      "iteration 14\n",
      "iteration 15\n",
      "iteration 16\n",
      "iteration 17\n",
      "iteration 18\n",
      "iteration 19\n",
      "iteration 20\n",
      "iteration 21\n",
      "iteration 22\n",
      "iteration 23\n",
      "iteration 24\n",
      "iteration 25\n",
      "iteration 26\n",
      "iteration 27\n",
      "iteration 28\n",
      "iteration 29\n",
      "iteration 30\n",
      "iteration 31\n",
      "iteration 32\n",
      "iteration 33\n",
      "iteration 34\n",
      "iteration 35\n",
      "iteration 36\n",
      "iteration 37\n",
      "iteration 38\n",
      "iteration 39\n",
      "iteration 40\n",
      "iteration 41\n",
      "iteration 42\n",
      "iteration 43\n",
      "iteration 44\n",
      "iteration 45\n",
      "iteration 46\n",
      "iteration 47\n",
      "iteration 48\n",
      "iteration 49\n",
      "iteration 50\n",
      "iteration 51\n",
      "iteration 52\n",
      "iteration 53\n",
      "iteration 54\n",
      "iteration 55\n",
      "iteration 56\n",
      "iteration 57\n",
      "iteration 58\n",
      "iteration 59\n",
      "iteration 60\n",
      "iteration 61\n",
      "iteration 62\n",
      "iteration 63\n",
      "iteration 64\n",
      "iteration 65\n",
      "iteration 66\n",
      "iteration 67\n",
      "iteration 68\n",
      "iteration 69\n",
      "iteration 70\n",
      "iteration 71\n",
      "iteration 72\n",
      "iteration 73\n",
      "iteration 74\n",
      "iteration 75\n",
      "iteration 76\n",
      "iteration 77\n",
      "iteration 78\n",
      "iteration 79\n",
      "iteration 80\n",
      "iteration 81\n",
      "iteration 82\n",
      "iteration 83\n",
      "iteration 84\n",
      "iteration 85\n",
      "iteration 86\n",
      "iteration 87\n",
      "iteration 88\n",
      "iteration 89\n",
      "iteration 90\n",
      "iteration 91\n",
      "iteration 92\n",
      "iteration 93\n",
      "iteration 94\n",
      "iteration 95\n",
      "iteration 96\n",
      "iteration 97\n",
      "iteration 98\n",
      "iteration 99\n",
      "Model Saved\n"
     ]
    }
   ],
   "source": [
    "#### Take_Home_Exercise 07: How to utilize word vectors for representing sentence and train a model ####\n",
    "\n",
    "\"\"\" One possible option of utilizing the word vectors to represent sentences as well as train the model is using doc2vec\n",
    "model in gensim, although there is already an in-build word2vec function in doc2vec, as showed below \"\"\"\n",
    "\n",
    "#Import all the dependencies\n",
    "from gensim.models.doc2vec import Doc2Vec, TaggedDocument\n",
    "from nltk.tokenize import word_tokenize\n",
    "\n",
    "data = train_df['text']\n",
    "\n",
    "tagged_data = [TaggedDocument(words=word_tokenize(_d.lower()), tags=[\"sentence\" + str(i)]) for i, _d in enumerate(data)]\n",
    "\n",
    "max_epochs = 100\n",
    "vec_size = 20\n",
    "alpha = 0.025\n",
    "\n",
    "model = Doc2Vec(size=vec_size, alpha=alpha, min_alpha=0.00025, min_count=1, dm =1)\n",
    "  \n",
    "model.build_vocab(tagged_data)\n",
    "\n",
    "for epoch in range(max_epochs):\n",
    "    print('iteration {0}'.format(epoch))\n",
    "    model.train(tagged_data, total_examples=model.corpus_count, epochs=model.iter)\n",
    "    # decrease the learning rate\n",
    "    model.alpha -= 0.0002\n",
    "    # fix the learning rate, no decay\n",
    "    model.min_alpha = model.alpha\n",
    "\n",
    "model.save(\"d2v.model\")\n",
    "print(\"Model Saved\")"
   ]
  },
  {
   "cell_type": "code",
   "execution_count": 13,
   "metadata": {
    "scrolled": true
   },
   "outputs": [
    {
     "name": "stdout",
     "output_type": "stream",
     "text": [
      "[-0.04222092 -0.03904209 -0.07763825  0.05870985  0.00222152 -0.04295484\n",
      "  0.01462417  0.00188417 -0.02938027  0.04220077 -0.01691653  0.00160863\n",
      "  0.01762149 -0.08502784 -0.00217758  0.01552069 -0.07009082  0.00681332\n",
      " -0.00694891  0.07895433]\n",
      "similar doc:  [('sentence929', 0.973817765712738), ('sentence1904', 0.8047905564308167), ('sentence1011', 0.7975006103515625), ('sentence3085', 0.782600998878479), ('sentence2812', 0.7590489983558655), ('sentence3356', 0.7553699612617493), ('sentence634', 0.7473395466804504), ('sentence1535', 0.745236873626709), ('sentence585', 0.7414520978927612), ('sentence323', 0.7412784099578857)]\n",
      "[ 0.5447477  -3.5413175  -0.6051167   2.8277647  -1.9731133   1.0472807\n",
      " -0.96480286 -3.8236444  -0.06593084  0.6231755   2.3773508  -1.5325768\n",
      "  1.8241574  -0.02234107  1.3941602   3.8988972  -6.4892097   3.4842627\n",
      "  1.538342    5.768708  ]\n"
     ]
    }
   ],
   "source": [
    "#### Take_Home_Exercise 07: How to utilize word vectors for representing sentence and train a model ####\n",
    "#### application of the trained model for constructed doc2vec model above ####\n",
    "\n",
    "from gensim.models.doc2vec import Doc2Vec\n",
    "\n",
    "model= Doc2Vec.load(\"d2v.model\")\n",
    "\n",
    "#to find the vector of a document which is not in training data\n",
    "test_data = word_tokenize(\"I love chatbots\".lower())\n",
    "v1 = model.infer_vector(test_data)\n",
    "print(v1)\n",
    "\n",
    "# to find most similar sentence(doc) using tags of sentence 2\n",
    "similar_doc = model.docvecs.most_similar(positive= 'sentence2', negative=None, topn=10, indexer=None)\n",
    "print(\"similar doc: \",similar_doc)\n",
    "\n",
    "# to find vector of doc in training data using tags or in other words, printing the vector of document at index 1 in training data\n",
    "print(model.docvecs['sentence1'])"
   ]
  },
  {
   "cell_type": "code",
   "execution_count": 14,
   "metadata": {},
   "outputs": [
    {
     "name": "stdout",
     "output_type": "stream",
     "text": [
      "load ok\n"
     ]
    }
   ],
   "source": [
    "from gensim.models import KeyedVectors\n",
    "\n",
    "## Note: this model is very huge, this will take some time ...\n",
    "model_path = \"D:\\PhD Related\\PhD courses related\\Others\\Data Mining Lab Assignments\\DMLab2\\DM19-Lab2-Master\\GoogleNews-vectors-negative300.bin.gz\"\n",
    "w2v_google_model = KeyedVectors.load_word2vec_format(model_path, binary=True)\n",
    "print('load ok')"
   ]
  },
  {
   "cell_type": "code",
   "execution_count": 15,
   "metadata": {},
   "outputs": [
    {
     "data": {
      "text/plain": [
       "[('glad', 0.7408890128135681),\n",
       " ('pleased', 0.6632171273231506),\n",
       " ('ecstatic', 0.6626912355422974),\n",
       " ('overjoyed', 0.6599286794662476),\n",
       " ('thrilled', 0.6514049768447876),\n",
       " ('satisfied', 0.6437950134277344),\n",
       " ('proud', 0.636042058467865),\n",
       " ('delighted', 0.627237856388092),\n",
       " ('disappointed', 0.6269949674606323),\n",
       " ('excited', 0.6247666478157043)]"
      ]
     },
     "execution_count": 15,
     "metadata": {},
     "output_type": "execute_result"
    }
   ],
   "source": [
    "w2v_google_model.most_similar('happy', topn=10)"
   ]
  },
  {
   "cell_type": "code",
   "execution_count": 16,
   "metadata": {},
   "outputs": [],
   "source": [
    "#### Take_Home_Exercise 08: t-SNE visualisation of 15 words most related to the words \"angry\", \"happy\", \"sad\", \"fear\" ####\n",
    "\n",
    "%matplotlib inline\n",
    "import matplotlib.pyplot as plt\n",
    "from sklearn.manifold import TSNE\n",
    "\n",
    "word_list = ['happy', 'angry', 'data', 'mining']\n",
    "\n",
    "topn = 15\n",
    "happy_words = ['happy'] + [word_ for word_, sim_ in w2v_google_model.most_similar('happy', topn=topn)]\n",
    "angry_words = ['angry'] + [word_ for word_, sim_ in w2v_google_model.most_similar('angry', topn=topn)]        \n",
    "sad_words = ['sad'] + [word_ for word_, sim_ in w2v_google_model.most_similar('sad', topn=topn)]        \n",
    "fear_words = ['fear'] + [word_ for word_, sim_ in w2v_google_model.most_similar('fear', topn=topn)]        \n",
    "\n",
    "target_words = happy_words + angry_words + sad_words + fear_words\n",
    "cn = topn + 1\n",
    "color = ['b'] * cn + ['g'] * cn + ['r'] * cn + ['y'] * cn\n"
   ]
  },
  {
   "cell_type": "code",
   "execution_count": 17,
   "metadata": {
    "scrolled": true
   },
   "outputs": [
    {
     "data": {
      "image/png": "[encoded data removed]",
      "text/plain": [
       "<Figure size 862.5x862.5 with 1 Axes>"
      ]
     },
     "metadata": {
      "needs_background": "light"
     },
     "output_type": "display_data"
    }
   ],
   "source": [
    "#### Take_Home_Exercise 08: plot dataset with t-SNE ####\n",
    "\n",
    "## w2v model\n",
    "model = w2v_google_model\n",
    "\n",
    "## prepare training word vectors\n",
    "size = 200\n",
    "target_size = len(target_words)\n",
    "all_word = list(model.vocab.keys())\n",
    "word_train = target_words + all_word[:size]\n",
    "X_train = model[word_train]\n",
    "\n",
    "## t-SNE model\n",
    "tsne = TSNE(n_components=2, metric='cosine', random_state=28)\n",
    "\n",
    "## training\n",
    "X_tsne = tsne.fit_transform(X_train)\n",
    "\n",
    "## plot the result\n",
    "plt.figure(figsize=(7.5, 7.5), dpi=115)\n",
    "plt.scatter(X_tsne[:target_size, 0], X_tsne[:target_size, 1], c=color)\n",
    "for label, x, y in zip(target_words, X_tsne[:target_size, 0], X_tsne[:target_size, 1]):\n",
    "    plt.annotate(label, xy=(x,y), xytext=(0,0),  textcoords='offset points')\n",
    "plt.show()"
   ]
  },
  {
   "cell_type": "markdown",
   "metadata": {},
   "source": [
    "# +++++++++++++++++++++++++++++++++++++++++++++++++++++++++++++"
   ]
  },
  {
   "cell_type": "markdown",
   "metadata": {},
   "source": [
    "# Kaggle Competition Report"
   ]
  },
  {
   "cell_type": "markdown",
   "metadata": {},
   "source": [
    "## Data preparation:"
   ]
  },
  {
   "cell_type": "markdown",
   "metadata": {},
   "source": [
    "#### ** step 1: Read-in and seperate attributes of dataset Tweet_DN.json to dataframe"
   ]
  },
  {
   "cell_type": "markdown",
   "metadata": {},
   "source": [
    "after this step, main part of tweets dataset including tweet_id, text, hashtag, score, crawldate and types are already loaded into dataframe and is ready to be processed."
   ]
  },
  {
   "cell_type": "code",
   "execution_count": null,
   "metadata": {},
   "outputs": [],
   "source": [
    "import re # for regular expressions\n",
    "import pandas as pd \n",
    "import numpy as np \n",
    "import matplotlib.pyplot as plt\n",
    "import string\n",
    "import nltk # for text manipulation\n",
    "import warnings \n",
    "warnings.filterwarnings(\"ignore\", category=DeprecationWarning)\n",
    "\n",
    "%matplotlib inline\n",
    "\n",
    "origin_data = pd.read_json(path_or_buf=\"tweets_DM.json\", orient=None,\n",
    "                           typ='frame', dtype=True, convert_axes=True, \n",
    "                           convert_dates=True, keep_default_dates=True, \n",
    "                           numpy=False, precise_float=False, date_unit=None, \n",
    "                           encoding=None, lines=True, chunksize=None, \n",
    "                           compression='infer')\n",
    "                           \n",
    "score = origin_data._score.values\n",
    "source = origin_data._source.values\n",
    "crawldate = origin_data._crawldate.values\n",
    "types = origin_data._type.values\n",
    "\n",
    "source = origin_data._source.values\n",
    "tweet_id = []\n",
    "hashtags = []\n",
    "text = []\n",
    "for index in range(len(source)):\n",
    "    hashtags.append(source[index].get('tweet').get('hashtags'))\n",
    "    tweet_id.append(source[index].get('tweet').get('tweet_id'))\n",
    "    text.append(source[index].get('tweet').get('text'))\n",
    "    \n",
    "json_df = pd.DataFrame()\n",
    "json_df['tweet_id']  = tweet_id\n",
    "json_df['hashtags']  = hashtags\n",
    "json_df['text']  = text\n",
    "json_df['score']  = score\n",
    "json_df['crawldate']  = crawldate\n",
    "json_df['types']  = types"
   ]
  },
  {
   "cell_type": "markdown",
   "metadata": {},
   "source": [
    "#### ** step 2: Read in and join data from data_identification.csv and emotion.csv using tweet_id as prepation for next step of joining with current dataframe."
   ]
  },
  {
   "cell_type": "markdown",
   "metadata": {},
   "source": [
    "data within these 2 csv files are labels to define sentiment of each scawled tweet and its assigned group of either \"train\" or \"test\""
   ]
  },
  {
   "cell_type": "code",
   "execution_count": null,
   "metadata": {},
   "outputs": [],
   "source": [
    "tweets_id  = pd.read_csv('data_identification.csv')\n",
    "emotion_of_labeled_tweets = pd.read_csv('emotion.csv')\n",
    "dfinal = tweets_id.merge(emotion_of_labeled_tweets, how='outer', left_on='tweet_id', right_on='tweet_id')"
   ]
  },
  {
   "cell_type": "markdown",
   "metadata": {},
   "source": [
    "#### ** step 3: join 2 obtained dataframes above to form complete original dataset before further processing: "
   ]
  },
  {
   "cell_type": "markdown",
   "metadata": {},
   "source": [
    "This complete dataset is saved as pickle file for backup purpose"
   ]
  },
  {
   "cell_type": "code",
   "execution_count": null,
   "metadata": {},
   "outputs": [],
   "source": [
    "import pickle\n",
    "\n",
    "whole_data = dfinal.merge(json_df, how = 'outer', left_on='tweet_id', right_on='tweet_id')\n",
    "infile = open('whole_data.pkl','rb')\n",
    "\n",
    "## Reload pickle value to check its accuracy\n",
    "new_dict = pickle.load(infile)\n",
    "infile.close()\n",
    "new_dict"
   ]
  },
  {
   "attachments": {},
   "cell_type": "markdown",
   "metadata": {},
   "source": [
    "![original](pics/original.jpg)"
   ]
  },
  {
   "cell_type": "markdown",
   "metadata": {},
   "source": [
    "#### ** step 4: seperate original whole dataset into training and testing dataset and save all 3 datasets to csv"
   ]
  },
  {
   "cell_type": "code",
   "execution_count": null,
   "metadata": {},
   "outputs": [],
   "source": [
    "whole_tweet_train_df = whole_data[whole_data['identification'] == 'train']\n",
    "whole_tweet_test_df = whole_data[whole_data['identification'] == 'test']\n",
    "\n",
    "whole_data.to_csv('whole_data.csv')\n",
    "whole_tweet_train_df.to_csv('train_data.csv')\n",
    "whole_tweet_test_df.to_csv('test_data.csv')"
   ]
  },
  {
   "cell_type": "markdown",
   "metadata": {},
   "source": [
    "## Data Preprocessing"
   ]
  },
  {
   "cell_type": "markdown",
   "metadata": {},
   "source": [
    "#### ** step 1: data summary and observation"
   ]
  },
  {
   "cell_type": "markdown",
   "metadata": {},
   "source": [
    "First step is to have a glance on the distribution of sentence's length in each dataset and have a comparision"
   ]
  },
  {
   "cell_type": "code",
   "execution_count": null,
   "metadata": {},
   "outputs": [],
   "source": [
    "length_train = whole_tweet_train_df['text'].str.len()\n",
    "length_test = whole_tweet_test_df['text'].str.len()\n",
    "\n",
    "plt.hist(length_train, bins=20, label=\"train_tweets\")\n",
    "plt.hist(length_test, bins=20, label=\"test_tweets\")\n",
    "plt.legend()\n",
    "plt.show()"
   ]
  },
  {
   "attachments": {},
   "cell_type": "markdown",
   "metadata": {},
   "source": [
    "![sentencelength](pics/sentencelength.png)"
   ]
  },
  {
   "cell_type": "markdown",
   "metadata": {},
   "source": [
    "** step 2: start from performing processing steps on training dataset. Firstly, define function to remove terms such as @abc, #abd and messy symbol from text and perform cleaning step"
   ]
  },
  {
   "cell_type": "code",
   "execution_count": null,
   "metadata": {},
   "outputs": [],
   "source": [
    "def remove_pattern(input_txt, pattern):\n",
    "    r = re.findall(pattern, input_txt)\n",
    "    for i in r:\n",
    "        input_txt = re.sub(i, '', input_txt)\n",
    "        \n",
    "    return input_txt\n",
    "\n",
    "clean_training_df = whole_tweet_train_df\n",
    "clean_training_df['text'] = np.vectorize(remove_pattern)(clean_training_df['text'], \"@[\\w]*\")\n",
    "clean_training_df['text'] = clean_training_df['text'].str.replace(\"[^a-zA-Z#]\", \" \")"
   ]
  },
  {
   "cell_type": "markdown",
   "metadata": {},
   "source": [
    "** step 3: remove words that have less than 3 characters since most of those words are believed to have no contribution to meaning of sentence (which later is figured out to be a wrong belief), then join the rest of words together using a space to seperate, before doing words tokenizing"
   ]
  },
  {
   "cell_type": "code",
   "execution_count": null,
   "metadata": {},
   "outputs": [],
   "source": [
    "clean_training_df['text'] = clean_training_df['text'].apply(lambda x: ' '.join([w for w in x.split() if len(w)>3]))\n",
    "tokenized_tweet = clean_training_df['text'].apply(lambda x: x.split()) # tokenizing"
   ]
  },
  {
   "cell_type": "markdown",
   "metadata": {},
   "source": [
    "** step 4: doing stemming and re-join stemmed, tokenized words to form set of all qualified words, ready for features extraction steps"
   ]
  },
  {
   "cell_type": "code",
   "execution_count": null,
   "metadata": {},
   "outputs": [],
   "source": [
    "from nltk.stem.porter import *\n",
    "stemmer = PorterStemmer()\n",
    "\n",
    "tokenized_tweet = tokenized_tweet.apply(lambda x: [stemmer.stem(i) for i in x]) # stemming\n",
    "\n",
    "for i in range(len(tokenized_tweet)):\n",
    "    tokenized_tweet[i] = ' '.join(tokenized_tweet[i])\n",
    "    \n",
    "clean_training_df['text'] = tokenized_tweet"
   ]
  },
  {
   "cell_type": "markdown",
   "metadata": {},
   "source": [
    "## Features Extraction"
   ]
  },
  {
   "cell_type": "markdown",
   "metadata": {},
   "source": [
    "### TF-IDF Vectorizer"
   ]
  },
  {
   "cell_type": "code",
   "execution_count": null,
   "metadata": {},
   "outputs": [],
   "source": [
    "from sklearn.feature_extraction.text import TfidfVectorizer\n",
    "import gensim\n",
    "\n",
    "tfidf_vectorizer = TfidfVectorizer(max_df=0.90, min_df=2, max_features=1000, stop_words='english')\n",
    "tfidf = tfidf_vectorizer.fit_transform(clean_training_df['text'])"
   ]
  },
  {
   "cell_type": "markdown",
   "metadata": {},
   "source": [
    "### Bag Of Word Vectorizer"
   ]
  },
  {
   "cell_type": "code",
   "execution_count": null,
   "metadata": {},
   "outputs": [],
   "source": [
    "from sklearn.feature_extraction.text import CountVectorizer\n",
    "import gensim\n",
    "\n",
    "bow_vectorizer = CountVectorizer(max_df=0.90, min_df=2, max_features=1000, stop_words='english')\n",
    "bow = bow_vectorizer.fit_transform(clean_training_df['text'])"
   ]
  },
  {
   "cell_type": "markdown",
   "metadata": {},
   "source": [
    "### Word2Vec features extraction - model training and performing extraction"
   ]
  },
  {
   "cell_type": "markdown",
   "metadata": {},
   "source": [
    "** step 1: let word2vec model learn from training dataset"
   ]
  },
  {
   "cell_type": "code",
   "execution_count": null,
   "metadata": {},
   "outputs": [],
   "source": [
    "tokenized_tweet = clean_training_df['text'].apply(lambda x: x.split()) # tokenizing\n",
    "\n",
    "model_w2v = gensim.models.Word2Vec(\n",
    "            tokenized_tweet,\n",
    "            size=200, # desired no. of features/independent variables \n",
    "            window=5, # context window size\n",
    "            min_count=2,\n",
    "            sg = 1, # 1 for skip-gram model\n",
    "            hs = 0,\n",
    "            negative = 10, # for negative sampling\n",
    "            workers= 2, # no.of cores\n",
    "            seed = 34)\n",
    "\n",
    "model_w2v.train(tokenized_tweet, total_examples= len(clean_training_df['text']), epochs=20)"
   ]
  },
  {
   "cell_type": "markdown",
   "metadata": {},
   "source": [
    "** step 2: using trained model to define word to vector converting function and convert words set to features vector, then save the result to wordvec_df dataframe for next step classification training use."
   ]
  },
  {
   "cell_type": "code",
   "execution_count": null,
   "metadata": {},
   "outputs": [],
   "source": [
    "def word_vector(tokens, size):\n",
    "    vec = np.zeros(size).reshape((1, size))\n",
    "    count = 0.\n",
    "    for word in tokens:\n",
    "        try:\n",
    "            vec += model_w2v[word].reshape((1, size))\n",
    "            count += 1.\n",
    "        except KeyError: # handling the case where the token is not in vocabulary       \n",
    "            continue\n",
    "    if count != 0:\n",
    "        vec /= count\n",
    "    return vec\n",
    "\n",
    "wordvec_arrays = np.zeros((len(tokenized_tweet), 200))\n",
    "\n",
    "for i in range(len(tokenized_tweet)):\n",
    "    wordvec_arrays[i,:] = word_vector(tokenized_tweet[i], 200)\n",
    "    \n",
    "wordvec_df = pd.DataFrame(wordvec_arrays)"
   ]
  },
  {
   "cell_type": "markdown",
   "metadata": {},
   "source": [
    "## Classification Model "
   ]
  },
  {
   "cell_type": "markdown",
   "metadata": {},
   "source": [
    "### Logistic Regression on TFIDF features vector"
   ]
  },
  {
   "cell_type": "markdown",
   "metadata": {},
   "source": [
    "** step 1: spliting the TFIDFVectorizer extracted vectors from training dataset into training and validating set of data using sklearn.model_selection package function: train_test_split"
   ]
  },
  {
   "cell_type": "code",
   "execution_count": null,
   "metadata": {},
   "outputs": [],
   "source": [
    "from sklearn.linear_model import LogisticRegression\n",
    "from sklearn.model_selection import train_test_split\n",
    "from sklearn.metrics import f1_score\n",
    "\n",
    "train_tfidf = tfidf[:1455563,:]\n",
    "test_tfidf = tfidf[1455563:,:]\n",
    "\n",
    "# splitting data into training and validation set\n",
    "xtrain_tfidf, xvalid_tfidf, ytrain, yvalid = train_test_split(train_tfidf, clean_training_df['emotion'],  \n",
    "                                                          random_state=42, \n",
    "                                                          test_size=0.3)\n",
    "\n",
    "lreg.fit(xtrain_tfidf, ytrain)\n",
    "prediction = lreg.predict(xvalid_tfidf)\n",
    "f1_score(yvalid, prediction, average='micro') # calculating f1 score"
   ]
  },
  {
   "cell_type": "markdown",
   "metadata": {},
   "source": [
    "the validating score was 0.47508295757198243"
   ]
  },
  {
   "cell_type": "markdown",
   "metadata": {},
   "source": [
    "** step 2: generating first submission csv to try on kaggle"
   ]
  },
  {
   "cell_type": "code",
   "execution_count": null,
   "metadata": {},
   "outputs": [],
   "source": [
    "test_pred = lreg.predict(test_tfidf)\n",
    "test['label'] = test_pred\n",
    "submission = test[['tweet_id','label']]\n",
    "submission.to_csv('prediction_tfidf_logistic_regression.csv', index=False) # writing data to a CSV file"
   ]
  },
  {
   "cell_type": "markdown",
   "metadata": {},
   "source": [
    "first kaggle score was about 0.38, so low score!!!"
   ]
  },
  {
   "cell_type": "markdown",
   "metadata": {},
   "source": [
    "### Logistic Regression on word2vec vectorizer"
   ]
  },
  {
   "cell_type": "markdown",
   "metadata": {},
   "source": [
    "** step 1: split the feature vectors into training and validating dataset and train on model"
   ]
  },
  {
   "cell_type": "code",
   "execution_count": null,
   "metadata": {},
   "outputs": [],
   "source": [
    "train_w2v = wordvec_df.iloc[:1455563,:]\n",
    "test_w2v = wordvec_df.iloc[1455563:,:]\n",
    "\n",
    "# splitting data into training and validation set\n",
    "xtrain_w2v, xvalid_w2v, ytrain, yvalid = train_test_split(train_w2v, train['emotion'],  \n",
    "                                                          random_state=42, \n",
    "                                                          test_size=0.3)\n",
    "\n",
    "lreg.fit(xtrain_w2v, ytrain)\n",
    "\n",
    "prediction = lreg.predict(xvalid_w2v)\n",
    "f1_score(yvalid, prediction, average='macro') # calculating f1 score"
   ]
  },
  {
   "cell_type": "markdown",
   "metadata": {},
   "source": [
    "the validating score was 0.47695393994077895"
   ]
  },
  {
   "cell_type": "markdown",
   "metadata": {},
   "source": [
    "** step 2: create submission file and second trial on kaggle"
   ]
  },
  {
   "cell_type": "code",
   "execution_count": null,
   "metadata": {},
   "outputs": [],
   "source": [
    "test_pred = lreg.predict(test_w2v)\n",
    "test['label'] = test_pred\n",
    "submission = test[['tweet_id','label']]\n",
    "submission.to_csv('prediction_w2v_logistic_regression.csv', index=False) # writing data to a CSV file"
   ]
  },
  {
   "cell_type": "markdown",
   "metadata": {},
   "source": [
    "second kaggle score was about 0.4, still low!!!"
   ]
  },
  {
   "cell_type": "markdown",
   "metadata": {},
   "source": [
    "## Other Classification Model Used"
   ]
  },
  {
   "cell_type": "markdown",
   "metadata": {},
   "source": [
    "### 1. Logistic Regression on Bag of Word Vectorizer"
   ]
  },
  {
   "cell_type": "code",
   "execution_count": null,
   "metadata": {},
   "outputs": [],
   "source": [
    "train_bow = bow[:1455563,:]\n",
    "test_bow = bow[1455563:,:]\n",
    "\n",
    "# splitting data into training and validation set\n",
    "xtrain_bow, xvalid_bow, ytrain, yvalid = train_test_split(train_bow, train['emotion'],  \n",
    "                                                          random_state=42, \n",
    "                                                          test_size=0.3)\n",
    "\n",
    "lreg = LogisticRegression()\n",
    "lreg.fit(xtrain_bow, ytrain) # training the model\n",
    "\n",
    "prediction = lreg.predict(xvalid_bow) # predicting on the validation set\n",
    "f1_score(yvalid, prediction, average='micro') # calculating f1 score"
   ]
  },
  {
   "cell_type": "markdown",
   "metadata": {},
   "source": [
    "validating score was 0.47374098001003045"
   ]
  },
  {
   "cell_type": "markdown",
   "metadata": {},
   "source": [
    "### 2. ktrain model as implementation of Bert Model (uncased_L-12_H-768_A-12) (not being able to submit due to exceeding Kaggle time limit)"
   ]
  },
  {
   "cell_type": "markdown",
   "metadata": {},
   "source": [
    "### 3. RandomForest Classifier"
   ]
  },
  {
   "cell_type": "markdown",
   "metadata": {},
   "source": [
    "RandomForestClassifier(bootstrap=True, class_weight=None, criterion='gini',\n",
    "                       max_depth=None, max_features='auto', max_leaf_nodes=None,\n",
    "                       min_impurity_decrease=0.0, min_impurity_split=None,\n",
    "                       min_samples_leaf=1, min_samples_split=2,\n",
    "                       min_weight_fraction_leaf=0.0, n_estimators=1000,\n",
    "                       n_jobs=None, oob_score=False, random_state=0, verbose=0,\n",
    "                       warm_start=False)"
   ]
  },
  {
   "cell_type": "markdown",
   "metadata": {},
   "source": [
    "# Gained Insights"
   ]
  },
  {
   "cell_type": "markdown",
   "metadata": {},
   "source": [
    "There are several categories of methods to deal with specific sentence-classification tasks:"
   ]
  },
  {
   "cell_type": "markdown",
   "metadata": {},
   "source": [
    "1. Multi-class classification (as in this competition): each sentence can only has 1 label but there are more than 2 labels to choose from.\n",
    "2. Multi-label classification (as in TBrain competition): each sentence might be classified into more than 1 label and there are 2 or more labels to choose from."
   ]
  },
  {
   "cell_type": "markdown",
   "metadata": {},
   "source": [
    "The main reasons that lead to inefficient classification in this practice are:"
   ]
  },
  {
   "cell_type": "markdown",
   "metadata": {},
   "source": [
    "1. data cleaning steps were naively ignored sequence and relationship of words within sentence, as well as semantic meaning of punctuation, context of the sentence, in the way of joining all words from sentences to a single bag of word.\n",
    "2. Classification models were naively supposed set of labels can be procceed by binary-classification, where sentences can be considered against labels every time by a pair of labels, which extremely ignored relationship between labels and probabilities of original sentences distribution among labels.\n",
    "3. Knowledge base of models were learned from limited training dataset that is not sufficiently support in predicting incoming new entry data in the case it is totally different than prior knowledge of the model.\n",
    "4. Absence of bidirectional processing and attention factors in learning process that cause the model not being able to learn semantic meaning of sentence thoroughly."
   ]
  },
  {
   "cell_type": "code",
   "execution_count": null,
   "metadata": {},
   "outputs": [],
   "source": []
  }
 ],
 "metadata": {
  "kernelspec": {
   "display_name": "Python 3",
   "language": "python",
   "name": "python3"
  },
  "language_info": {
   "codemirror_mode": {
    "name": "ipython",
    "version": 3
   },
   "file_extension": ".py",
   "mimetype": "text/x-python",
   "name": "python",
   "nbconvert_exporter": "python",
   "pygments_lexer": "ipython3",
   "version": "3.6.8"
  }
 },
 "nbformat": 4,
 "nbformat_minor": 2
}
